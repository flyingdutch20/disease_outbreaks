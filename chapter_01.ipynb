{
 "cells": [
  {
   "cell_type": "code",
   "execution_count": 12,
   "metadata": {},
   "outputs": [],
   "source": [
    "import geonamescache\n",
    "import re\n",
    "import pandas\n",
    "\n",
    "gc = geonamescache.GeonamesCache()\n",
    "\n",
    "gc_city_dict = gc.get_cities()\n",
    "\n",
    "alt_names_dict = {}\n",
    "for city in list(gc_city_dict.items()):\n",
    "    alt_names = city[1]['alternatenames']\n",
    "    my_city = city[1]['name']\n",
    "    my_list = [my_city]\n",
    "#    for alt_name in alt_names:\n",
    "#        if len(alt_name) > 2:\n",
    "#            my_list.append(alt_name)\n",
    "    search_names = '|'.join(my_list)\n",
    "    search_names = '\\\\b' + search_names + '\\\\b'\n",
    "    regex = re.compile(search_names)\n",
    "    alt_names_dict[city[0]] = regex"
   ]
  },
  {
   "cell_type": "code",
   "execution_count": 7,
   "metadata": {},
   "outputs": [
    {
     "data": {
      "text/plain": [
       "re.compile(r'\\bSan Mauro Torinese\\b', re.UNICODE)"
      ]
     },
     "execution_count": 7,
     "metadata": {},
     "output_type": "execute_result"
    }
   ],
   "source": [
    "alt_names_dict['3167978']"
   ]
  },
  {
   "cell_type": "code",
   "execution_count": 15,
   "metadata": {},
   "outputs": [
    {
     "name": "stdout",
     "output_type": "stream",
     "text": [
      "                                        Headline Country           City  \\\n",
      "0                       Zika Outbreak Hits Miami      US          Miami   \n",
      "1                Could Zika Reach New York City?      GB           York   \n",
      "2                Could Zika Reach New York City?      US           York   \n",
      "3                Could Zika Reach New York City?      US  New York City   \n",
      "4              First Case of Zika in Miami Beach      US          Miami   \n",
      "...                                          ...     ...            ...   \n",
      "1012  More Zika patients reported in Bella Vista      DO    Bella Vista   \n",
      "1013  More Zika patients reported in Bella Vista      US    Bella Vista   \n",
      "1014  More Zika patients reported in Bella Vista      US          Vista   \n",
      "1015              Zika Outbreak in Wichita Falls      US        Wichita   \n",
      "1016              Zika Outbreak in Wichita Falls      US  Wichita Falls   \n",
      "\n",
      "          Key  \n",
      "0     4164138  \n",
      "1     2633352  \n",
      "2     4562407  \n",
      "3     5128581  \n",
      "4     4164138  \n",
      "...       ...  \n",
      "1012  3511550  \n",
      "1013  4101114  \n",
      "1014  5406602  \n",
      "1015  4281730  \n",
      "1016  4741752  \n",
      "\n",
      "[1017 rows x 4 columns]\n"
     ]
    }
   ],
   "source": [
    "result = []\n",
    "file = open('.\\data\\headlines.txt', 'r')\n",
    "for headline in file.readlines():\n",
    "    outline = []\n",
    "    for city_names in list(alt_names_dict.items()):\n",
    "        regexp = city_names[1]\n",
    "        if regexp.search(headline) != None:\n",
    "            key = city_names[0]\n",
    "            country = gc_city_dict[city_names[0]]['countrycode']\n",
    "            city = gc_city_dict[city_names[0]]['name']\n",
    "            outline.append([ headline.rstrip(), country, city, key])\n",
    "    result.extend(outline)\n",
    "file.close()\n",
    "\n",
    "df = pandas.DataFrame(result, columns=[\"Headline\", \"Country\", \"City\", \"Key\"] )\n",
    "print(df)\n",
    "\n"
   ]
  },
  {
   "cell_type": "code",
   "execution_count": 5,
   "metadata": {},
   "outputs": [],
   "source": []
  },
  {
   "cell_type": "code",
   "execution_count": null,
   "metadata": {},
   "outputs": [],
   "source": []
  }
 ],
 "metadata": {
  "kernelspec": {
   "display_name": "Python 3",
   "language": "python",
   "name": "python3"
  },
  "language_info": {
   "codemirror_mode": {
    "name": "ipython",
    "version": 3
   },
   "file_extension": ".py",
   "mimetype": "text/x-python",
   "name": "python",
   "nbconvert_exporter": "python",
   "pygments_lexer": "ipython3",
   "version": "3.8.2"
  }
 },
 "nbformat": 4,
 "nbformat_minor": 4
}
